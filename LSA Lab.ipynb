{
 "cells": [
  {
   "cell_type": "code",
   "execution_count": 35,
   "metadata": {
    "collapsed": false
   },
   "outputs": [],
   "source": [
    "#import the required packages. \n",
    "from bs4 import BeautifulSoup\n",
    "from bs4.diagnose import diagnose\n",
    "import nltk\n",
    "from nltk.corpus import stopwords\n",
    "from sklearn.feature_extraction.text import TfidfVectorizer\n",
    "from sklearn.decomposition import TruncatedSVD"
   ]
  },
  {
   "cell_type": "code",
   "execution_count": 12,
   "metadata": {
    "collapsed": false
   },
   "outputs": [
    {
     "name": "stdout",
     "output_type": "stream",
     "text": [
      "[nltk_data] Downloading package stopwords to\n",
      "[nltk_data]     C:\\Users\\ugo\\AppData\\Roaming\\nltk_data...\n",
      "[nltk_data]   Package stopwords is already up-to-date!\n"
     ]
    },
    {
     "data": {
      "text/plain": [
       "True"
      ]
     },
     "execution_count": 12,
     "metadata": {},
     "output_type": "execute_result"
    }
   ],
   "source": [
    "#download the stop words from the Python natural language package\n",
    "nltk.download('stopwords')"
   ]
  },
  {
   "cell_type": "code",
   "execution_count": 50,
   "metadata": {
    "collapsed": false,
    "scrolled": false
   },
   "outputs": [],
   "source": [
    "#Obtain the newsgroup data. \n",
    "from sklearn.datasets import fetch_20newsgroups\n",
    "categories = ['rec.motorcycles']\n",
    "dataset = fetch_20newsgroups(subset='all',shuffle=True, random_state=42, categories=categories)\n",
    "corpus = dataset.data\n",
    "#corpus"
   ]
  },
  {
   "cell_type": "markdown",
   "metadata": {},
   "source": []
  },
  {
   "cell_type": "code",
   "execution_count": 66,
   "metadata": {
    "collapsed": false
   },
   "outputs": [],
   "source": [
    "#create the stopwords and add stopwords as needed\n",
    "stopset = set(stopwords.words('english'))\n",
    "stopset.update(['lt','p','/p','br','amp','quot','field','font','normal','span','0px','rgb','style','51', \n",
    "                'spacing','text','helvetica','size','family', 'space', 'arial', 'height', 'indent', 'letter'\n",
    "                'line','none','sans','serif','transform','line','variant','weight','times', 'new','strong', 'video', 'title'\n",
    "                'white','word','letter', 'roman','0pt','16','color','12','14','21', 'neue', 'apple', 'class', '__','_'\n",
    "                'said','would','much','also','get','com','subject','writes','like','posting','nntp','nntp posting'\n",
    "                'nntp posting host','posting host',])"
   ]
  },
  {
   "cell_type": "code",
   "execution_count": 55,
   "metadata": {
    "collapsed": true
   },
   "outputs": [],
   "source": [
    "#Create a vectorizer for the corpus\n",
    "vectorizer = TfidfVectorizer(stop_words=stopset,\n",
    "                                 use_idf=True, ngram_range=(1, 3))\n",
    "X = vectorizer.fit_transform(corpus)"
   ]
  },
  {
   "cell_type": "code",
   "execution_count": 56,
   "metadata": {
    "collapsed": false
   },
   "outputs": [
    {
     "data": {
      "text/plain": [
       "(996, 156670)"
      ]
     },
     "execution_count": 56,
     "metadata": {},
     "output_type": "execute_result"
    }
   ],
   "source": [
    "#Obtain the shape of the matrix \n",
    "X.shape"
   ]
  },
  {
   "cell_type": "code",
   "execution_count": 57,
   "metadata": {
    "collapsed": false
   },
   "outputs": [
    {
     "data": {
      "text/plain": [
       "<1x156670 sparse matrix of type '<class 'numpy.float64'>'\n",
       "\twith 413 stored elements in Compressed Sparse Row format>"
      ]
     },
     "execution_count": 57,
     "metadata": {},
     "output_type": "execute_result"
    }
   ],
   "source": [
    "#inspect the first element in the matrix \n",
    "X[0]"
   ]
  },
  {
   "cell_type": "code",
   "execution_count": 59,
   "metadata": {
    "collapsed": false
   },
   "outputs": [
    {
     "name": "stdout",
     "output_type": "stream",
     "text": [
      "  (0, 103558)\t0.0449646200163\n",
      "  (0, 33520)\t0.0530455548115\n",
      "  (0, 91014)\t0.0530455548115\n",
      "  (0, 149078)\t0.0530455548115\n",
      "  (0, 53120)\t0.0530455548115\n",
      "  (0, 48014)\t0.0530455548115\n",
      "  (0, 107314)\t0.0530455548115\n",
      "  (0, 134139)\t0.0530455548115\n",
      "  (0, 26576)\t0.0530455548115\n",
      "  (0, 106138)\t0.0530455548115\n",
      "  (0, 137037)\t0.0530455548115\n",
      "  (0, 66152)\t0.0530455548115\n",
      "  (0, 67126)\t0.0530455548115\n",
      "  (0, 26649)\t0.0530455548115\n",
      "  (0, 21447)\t0.0530455548115\n",
      "  (0, 111659)\t0.0530455548115\n",
      "  (0, 65156)\t0.0530455548115\n",
      "  (0, 14495)\t0.0530455548115\n",
      "  (0, 30430)\t0.0530455548115\n",
      "  (0, 156136)\t0.0530455548115\n",
      "  (0, 55900)\t0.0530455548115\n",
      "  (0, 131806)\t0.0530455548115\n",
      "  (0, 53993)\t0.0530455548115\n",
      "  (0, 29831)\t0.0530455548115\n",
      "  (0, 93032)\t0.0530455548115\n",
      "  :\t:\n",
      "  (0, 121595)\t0.0449646200163\n",
      "  (0, 66895)\t0.0344673460151\n",
      "  (0, 153892)\t0.010502143776\n",
      "  (0, 48389)\t0.0117443100628\n",
      "  (0, 144024)\t0.0339012526248\n",
      "  (0, 118978)\t0.0412071993138\n",
      "  (0, 72154)\t0.0412071993138\n",
      "  (0, 69657)\t0.0120451379433\n",
      "  (0, 107680)\t0.0118795268087\n",
      "  (0, 96705)\t0.0120731059764\n",
      "  (0, 5331)\t0.0304782342263\n",
      "  (0, 81957)\t0.00737035409209\n",
      "  (0, 29023)\t0.0299821642313\n",
      "  (0, 40218)\t0.04198218742\n",
      "  (0, 71824)\t0.0242703416171\n",
      "  (0, 36384)\t0.0535791155969\n",
      "  (0, 100544)\t0.00746709052925\n",
      "  (0, 68557)\t0.0290803525723\n",
      "  (0, 94779)\t0.0623928443502\n",
      "  (0, 26817)\t0.0398661178173\n",
      "  (0, 19198)\t0.0195491315454\n",
      "  (0, 132981)\t0.00735558383845\n",
      "  (0, 103536)\t0.0667512604484\n",
      "  (0, 34639)\t0.0220597241661\n",
      "  (0, 138754)\t0.128545651241\n"
     ]
    }
   ],
   "source": [
    "#print out the first element in the matrix \n",
    "print (X[0])"
   ]
  },
  {
   "cell_type": "code",
   "execution_count": 60,
   "metadata": {
    "collapsed": false
   },
   "outputs": [
    {
     "data": {
      "text/plain": [
       "TruncatedSVD(algorithm='randomized', n_components=27, n_iter=100,\n",
       "       random_state=None, tol=0.0)"
      ]
     },
     "execution_count": 60,
     "metadata": {},
     "output_type": "execute_result"
    }
   ],
   "source": [
    "#start a single value decomposition of the matrix \n",
    "lsa = TruncatedSVD(n_components=27, n_iter=100)\n",
    "lsa.fit(X)"
   ]
  },
  {
   "cell_type": "code",
   "execution_count": 61,
   "metadata": {
    "collapsed": false
   },
   "outputs": [
    {
     "name": "stdout",
     "output_type": "stream",
     "text": [
      "3.5.2 |Anaconda 4.1.1 (64-bit)| (default, Jul  5 2016, 11:41:13) [MSC v.1900 64 bit (AMD64)]\n"
     ]
    }
   ],
   "source": [
    "#first row for V\n",
    "lsa.components_[0]\n",
    "\n",
    "import sys\n",
    "print (sys.version)"
   ]
  },
  {
   "cell_type": "code",
   "execution_count": 67,
   "metadata": {
    "collapsed": false
   },
   "outputs": [
    {
     "name": "stdout",
     "output_type": "stream",
     "text": [
      "Concept 0:\n",
      "com\n",
      "sun\n",
      "sun com\n",
      "east sun\n",
      "east sun com\n",
      "east\n",
      "edu\n",
      "ed\n",
      "ed green\n",
      "green\n",
      " \n",
      "Concept 1:\n",
      "sun\n",
      "east sun\n",
      "east sun com\n",
      "sun com\n",
      "east\n",
      "ed green\n",
      "green\n",
      "ed\n",
      "egreen\n",
      "egreen east\n",
      " \n",
      "Concept 2:\n",
      "behanna\n",
      "nec\n",
      "com\n",
      "nj nec\n",
      "nj nec com\n",
      "sun\n",
      "nj\n",
      "posting\n",
      "egreen\n",
      "egreen east\n",
      " \n",
      "Concept 3:\n",
      "would\n",
      "uk\n",
      "subject\n",
      "know\n",
      "writes\n",
      "tony\n",
      "nj\n",
      "first\n",
      "way\n",
      "bmw\n",
      " \n",
      "Concept 4:\n",
      "___\n",
      "sun\n",
      "___ ___\n",
      "said\n",
      "go\n",
      "distribution\n",
      "side\n",
      "biker\n",
      "writes\n",
      "bikes\n",
      " \n",
      "Concept 5:\n",
      "article\n",
      "dod\n",
      "com\n",
      "said\n",
      "east\n",
      "know\n",
      "sun\n",
      "00 22 22\n",
      "first\n",
      "right\n",
      " \n",
      "Concept 6:\n",
      "ca\n",
      "subject\n",
      "ride\n",
      "00 01\n",
      "one\n",
      "state\n",
      "uk\n",
      "much\n",
      "bike\n",
      "driving\n",
      " \n",
      "Concept 7:\n",
      "dod\n",
      "riding\n",
      "east sun\n",
      "east sun com\n",
      "said\n",
      "know\n",
      "writes article\n",
      "writes\n",
      "edu\n",
      "posting\n",
      " \n",
      "Concept 8:\n",
      "east\n",
      "dod\n",
      "com\n",
      "bike\n",
      "rider\n",
      "would\n",
      "posting\n",
      "subject\n",
      "also\n",
      "said\n",
      " \n",
      "Concept 9:\n",
      "ca\n",
      "university\n",
      "sun com\n",
      "host\n",
      "ed\n",
      "lines\n",
      "edu\n",
      "writes\n",
      "time\n",
      "little\n",
      " \n",
      "Concept 10:\n",
      "good\n",
      "bike\n",
      "com\n",
      "sun\n",
      "ride\n",
      "little\n",
      "really\n",
      "uk\n",
      "host\n",
      "right\n",
      " \n",
      "Concept 11:\n",
      "get\n",
      "org\n",
      "organization\n",
      "ed\n",
      "time\n",
      "ca\n",
      "green\n",
      "first\n",
      "like\n",
      "car\n",
      " \n",
      "Concept 12:\n",
      "edu\n",
      "like\n",
      "bmw\n",
      "dod\n",
      "riding\n",
      "nec\n",
      "distribution\n",
      "know\n",
      "little\n",
      "organization\n",
      " \n",
      "Concept 13:\n",
      "east\n",
      "uk\n",
      "sun\n",
      "00 01\n",
      "distribution\n",
      "edu\n",
      "rider\n",
      "posting\n",
      "bmw\n",
      "com\n",
      " \n",
      "Concept 14:\n",
      "com\n",
      "posting\n",
      "writes\n",
      "know\n",
      "ride\n",
      "organization\n",
      "world\n",
      "sun\n",
      "like\n",
      "way\n",
      " \n",
      "Concept 15:\n",
      "ed green\n",
      "ed\n",
      "time\n",
      "00 01\n",
      "university\n",
      "lines\n",
      "com\n",
      "good\n",
      "subject\n",
      "helmet\n",
      " \n",
      "Concept 16:\n",
      "ca\n",
      "subject\n",
      "green\n",
      "com\n",
      "thing\n",
      "would\n",
      "host\n",
      "ride\n",
      "writes\n",
      "left\n",
      " \n",
      "Concept 17:\n",
      "ca\n",
      "bike\n",
      "00 22\n",
      "east\n",
      "university\n",
      "know\n",
      "east sun\n",
      "east sun com\n",
      "sun\n",
      "like\n",
      " \n",
      "Concept 18:\n",
      "com\n",
      "sun\n",
      "writes\n",
      "article\n",
      "one\n",
      "get\n",
      "sun com\n",
      "dod\n",
      "00 22\n",
      "little\n",
      " \n",
      "Concept 19:\n",
      "sun com\n",
      "writes\n",
      "good\n",
      "ride\n",
      "edu\n",
      "posting\n",
      "get\n",
      "bike\n",
      "even\n",
      "00 22\n",
      " \n",
      "Concept 20:\n",
      "one\n",
      "dod\n",
      "ride\n",
      "sun com\n",
      "article\n",
      "reply\n",
      "posting\n",
      "green\n",
      "little\n",
      "could\n",
      " \n",
      "Concept 21:\n",
      "distribution\n",
      "com\n",
      "university\n",
      "nntp\n",
      "nntp posting\n",
      "nntp posting host\n",
      "posting host\n",
      "posting\n",
      "like\n",
      "00 22\n",
      " \n",
      "Concept 22:\n",
      "ca\n",
      "organization\n",
      "article\n",
      "east sun\n",
      "east sun com\n",
      "bike\n",
      "got\n",
      "subject\n",
      "posting\n",
      "00 23\n",
      " \n",
      "Concept 23:\n",
      "bike\n",
      "green\n",
      "know\n",
      "article\n",
      "good\n",
      "distribution\n",
      "organization\n",
      "one\n",
      "writes\n",
      "get\n",
      " \n",
      "Concept 24:\n",
      "dod\n",
      "organization\n",
      "good\n",
      "ca\n",
      "world\n",
      "distribution\n",
      "may\n",
      "mike\n",
      "got\n",
      "nec\n",
      " \n",
      "Concept 25:\n",
      "article\n",
      "00 01\n",
      "com\n",
      "ride\n",
      "east sun\n",
      "east sun com\n",
      "bike\n",
      "00 22 22\n",
      "edu\n",
      "ed\n",
      " \n",
      "Concept 26:\n",
      "com\n",
      "edu\n",
      "sun com\n",
      "ed green\n",
      "east sun\n",
      "east sun com\n",
      "good\n",
      "go\n",
      "nntp\n",
      "nntp posting\n",
      " \n"
     ]
    }
   ],
   "source": [
    "#print the first 10 concepts \n",
    "terms = vectorizer.get_feature_names()\n",
    "for i, comp in enumerate(lsa.components_): \n",
    "    termsInComp = zip (terms,comp)\n",
    "    sortedTerms =  sorted(termsInComp, key=lambda x: x[1], reverse=True) [:10]\n",
    "    print (\"Concept %d:\" % i)\n",
    "    for term in sortedTerms:\n",
    "        print (term[0])\n",
    "    print (\" \")"
   ]
  },
  {
   "cell_type": "code",
   "execution_count": null,
   "metadata": {
    "collapsed": true
   },
   "outputs": [],
   "source": []
  }
 ],
 "metadata": {
  "kernelspec": {
   "display_name": "Python [Root]",
   "language": "python",
   "name": "Python [Root]"
  },
  "language_info": {
   "codemirror_mode": {
    "name": "ipython",
    "version": 3
   },
   "file_extension": ".py",
   "mimetype": "text/x-python",
   "name": "python",
   "nbconvert_exporter": "python",
   "pygments_lexer": "ipython3",
   "version": "3.5.2"
  }
 },
 "nbformat": 4,
 "nbformat_minor": 0
}
