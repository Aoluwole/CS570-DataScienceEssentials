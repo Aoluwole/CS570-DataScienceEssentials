{
 "cells": [
  {
   "cell_type": "code",
   "execution_count": 3,
   "metadata": {
    "collapsed": false
   },
   "outputs": [],
   "source": [
    "from sklearn import datasets \n",
    "import pandas as pd \n",
    "from sklearn.preprocessing import StandardScaler\n",
    "from sklearn.cross_validation import train_test_split\n",
    "from sklearn.metrics import mean_squared_error\n",
    "from sklearn.metrics import r2_score \n",
    "from sklearn.linear_model import LinearRegression"
   ]
  },
  {
   "cell_type": "code",
   "execution_count": 5,
   "metadata": {
    "collapsed": false,
    "scrolled": true
   },
   "outputs": [
    {
     "name": "stdout",
     "output_type": "stream",
     "text": [
      "Boston House Prices dataset\n",
      "\n",
      "Notes\n",
      "------\n",
      "Data Set Characteristics:  \n",
      "\n",
      "    :Number of Instances: 506 \n",
      "\n",
      "    :Number of Attributes: 13 numeric/categorical predictive\n",
      "    \n",
      "    :Median Value (attribute 14) is usually the target\n",
      "\n",
      "    :Attribute Information (in order):\n",
      "        - CRIM     per capita crime rate by town\n",
      "        - ZN       proportion of residential land zoned for lots over 25,000 sq.ft.\n",
      "        - INDUS    proportion of non-retail business acres per town\n",
      "        - CHAS     Charles River dummy variable (= 1 if tract bounds river; 0 otherwise)\n",
      "        - NOX      nitric oxides concentration (parts per 10 million)\n",
      "        - RM       average number of rooms per dwelling\n",
      "        - AGE      proportion of owner-occupied units built prior to 1940\n",
      "        - DIS      weighted distances to five Boston employment centres\n",
      "        - RAD      index of accessibility to radial highways\n",
      "        - TAX      full-value property-tax rate per $10,000\n",
      "        - PTRATIO  pupil-teacher ratio by town\n",
      "        - B        1000(Bk - 0.63)^2 where Bk is the proportion of blacks by town\n",
      "        - LSTAT    % lower status of the population\n",
      "        - MEDV     Median value of owner-occupied homes in $1000's\n",
      "\n",
      "    :Missing Attribute Values: None\n",
      "\n",
      "    :Creator: Harrison, D. and Rubinfeld, D.L.\n",
      "\n",
      "This is a copy of UCI ML housing dataset.\n",
      "http://archive.ics.uci.edu/ml/datasets/Housing\n",
      "\n",
      "\n",
      "This dataset was taken from the StatLib library which is maintained at Carnegie Mellon University.\n",
      "\n",
      "The Boston house-price data of Harrison, D. and Rubinfeld, D.L. 'Hedonic\n",
      "prices and the demand for clean air', J. Environ. Economics & Management,\n",
      "vol.5, 81-102, 1978.   Used in Belsley, Kuh & Welsch, 'Regression diagnostics\n",
      "...', Wiley, 1980.   N.B. Various transformations are used in the table on\n",
      "pages 244-261 of the latter.\n",
      "\n",
      "The Boston house-price data has been used in many machine learning papers that address regression\n",
      "problems.   \n",
      "     \n",
      "**References**\n",
      "\n",
      "   - Belsley, Kuh & Welsch, 'Regression diagnostics: Identifying Influential Data and Sources of Collinearity', Wiley, 1980. 244-261.\n",
      "   - Quinlan,R. (1993). Combining Instance-Based and Model-Based Learning. In Proceedings on the Tenth International Conference of Machine Learning, 236-243, University of Massachusetts, Amherst. Morgan Kaufmann.\n",
      "   - many more! (see http://archive.ics.uci.edu/ml/datasets/Housing)\n",
      "\n"
     ]
    }
   ],
   "source": [
    "bean= datasets.load_boston()\n",
    "print (bean.DESCR)"
   ]
  },
  {
   "cell_type": "code",
   "execution_count": 8,
   "metadata": {
    "collapsed": true
   },
   "outputs": [],
   "source": [
    "def load_boston():\n",
    "    scaler = StandardScaler()\n",
    "    boston = datasets.load_boston()\n",
    "    X=boston.data\n",
    "    y=boston.target\n",
    "    X = scaler.fit_transform(X)\n",
    "    return train_test_split(X,y)"
   ]
  },
  {
   "cell_type": "code",
   "execution_count": 9,
   "metadata": {
    "collapsed": false
   },
   "outputs": [],
   "source": [
    "X_train, X_test, y_train, y_test = load_boston()"
   ]
  },
  {
   "cell_type": "code",
   "execution_count": 13,
   "metadata": {
    "collapsed": false
   },
   "outputs": [
    {
     "data": {
      "text/plain": [
       "(379, 13)"
      ]
     },
     "execution_count": 13,
     "metadata": {},
     "output_type": "execute_result"
    }
   ],
   "source": [
    "X_train.shape"
   ]
  },
  {
   "cell_type": "code",
   "execution_count": 14,
   "metadata": {
    "collapsed": false
   },
   "outputs": [
    {
     "data": {
      "text/plain": [
       "LinearRegression(copy_X=True, fit_intercept=True, n_jobs=1, normalize=False)"
      ]
     },
     "execution_count": 14,
     "metadata": {},
     "output_type": "execute_result"
    }
   ],
   "source": [
    "clf = LinearRegression()\n",
    "clf.fit(X_train, y_train)"
   ]
  },
  {
   "cell_type": "code",
   "execution_count": 17,
   "metadata": {
    "collapsed": false
   },
   "outputs": [],
   "source": [
    "observations =zip (y_test, clf.predict(X_test))"
   ]
  },
  {
   "cell_type": "code",
   "execution_count": 36,
   "metadata": {
    "collapsed": false,
    "scrolled": false
   },
   "outputs": [
    {
     "name": "stdout",
     "output_type": "stream",
     "text": [
      "R2 Score: 0.7323\n"
     ]
    }
   ],
   "source": [
    "r2 = r2_score(y_test, clf.predict(X_test))\n",
    "print('R2 Score: %.4f' %r2)"
   ]
  },
  {
   "cell_type": "code",
   "execution_count": 31,
   "metadata": {
    "collapsed": false
   },
   "outputs": [
    {
     "name": "stdout",
     "output_type": "stream",
     "text": [
      "MSE: 24.1579\n"
     ]
    }
   ],
   "source": [
    "mse = mean_squared_error(y_test, clf.predict(X_test))\n",
    "print('MSE: %.4f' %mse)"
   ]
  },
  {
   "cell_type": "code",
   "execution_count": 32,
   "metadata": {
    "collapsed": false
   },
   "outputs": [
    {
     "data": {
      "text/plain": [
       "Ridge(alpha=0.5, copy_X=True, fit_intercept=True, max_iter=None,\n",
       "   normalize=False, random_state=None, solver='auto', tol=0.001)"
      ]
     },
     "execution_count": 32,
     "metadata": {},
     "output_type": "execute_result"
    }
   ],
   "source": [
    "# To implement a new model using L2 regularization \n",
    "from sklearn.linear_model import Ridge\n",
    "\n",
    "#Create linear regression with ridge coeffecient 0.5 \n",
    "ridge = Ridge(fit_intercept=True, alpha=0.5)\n",
    "\n",
    "#Then train the model using the training set \n",
    "ridge.fit(X_train, y_train)"
   ]
  },
  {
   "cell_type": "code",
   "execution_count": 33,
   "metadata": {
    "collapsed": true
   },
   "outputs": [],
   "source": [
    "l_observed = zip (y_test, ridge.predict(X_test) )"
   ]
  },
  {
   "cell_type": "code",
   "execution_count": 37,
   "metadata": {
    "collapsed": false
   },
   "outputs": [
    {
     "name": "stdout",
     "output_type": "stream",
     "text": [
      "L2 R2 Score: 0.7321\n"
     ]
    }
   ],
   "source": [
    "l_r2 = r2_score(y_test, ridge.predict(X_test))\n",
    "print('L2 R2 Score: %.4f' %l_r2)"
   ]
  },
  {
   "cell_type": "code",
   "execution_count": 38,
   "metadata": {
    "collapsed": false
   },
   "outputs": [
    {
     "name": "stdout",
     "output_type": "stream",
     "text": [
      "L2 MSE: 24.1772\n"
     ]
    }
   ],
   "source": [
    "l2_mse = mean_squared_error(y_test, ridge.predict(X_test))\n",
    "print('L2 MSE: %.4f' %l2_mse)"
   ]
  },
  {
   "cell_type": "code",
   "execution_count": 48,
   "metadata": {
    "collapsed": false,
    "scrolled": true
   },
   "outputs": [
    {
     "name": "stdout",
     "output_type": "stream",
     "text": [
      "Optimization values\n",
      "alpha value\t R2\t MSE\t\n",
      "0.003\t\t 0.7323\t\t 24.1580\n",
      "0.053\t\t 0.7323\t\t 24.1599\n",
      "0.103\t\t 0.7322\t\t 24.1619\n",
      "0.154\t\t 0.7322\t\t 24.1638\n",
      "0.204\t\t 0.7322\t\t 24.1658\n",
      "0.255\t\t 0.7322\t\t 24.1677\n",
      "0.305\t\t 0.7321\t\t 24.1697\n",
      "0.356\t\t 0.7321\t\t 24.1716\n",
      "0.406\t\t 0.7321\t\t 24.1736\n",
      "0.457\t\t 0.7321\t\t 24.1755\n",
      "0.507\t\t 0.7321\t\t 24.1775\n",
      "0.558\t\t 0.7320\t\t 24.1795\n",
      "0.608\t\t 0.7320\t\t 24.1814\n",
      "0.659\t\t 0.7320\t\t 24.1834\n",
      "0.709\t\t 0.7320\t\t 24.1854\n",
      "0.760\t\t 0.7319\t\t 24.1874\n",
      "0.810\t\t 0.7319\t\t 24.1893\n",
      "0.861\t\t 0.7319\t\t 24.1913\n",
      "0.911\t\t 0.7319\t\t 24.1933\n",
      "0.962\t\t 0.7319\t\t 24.1953\n",
      "1.012\t\t 0.7318\t\t 24.1973\n",
      "1.063\t\t 0.7318\t\t 24.1993\n",
      "1.113\t\t 0.7318\t\t 24.2013\n",
      "1.164\t\t 0.7318\t\t 24.2033\n",
      "1.214\t\t 0.7317\t\t 24.2052\n",
      "1.264\t\t 0.7317\t\t 24.2072\n",
      "1.315\t\t 0.7317\t\t 24.2092\n",
      "1.365\t\t 0.7317\t\t 24.2112\n",
      "1.416\t\t 0.7317\t\t 24.2132\n",
      "1.466\t\t 0.7316\t\t 24.2152\n",
      "1.517\t\t 0.7316\t\t 24.2172\n",
      "1.567\t\t 0.7316\t\t 24.2193\n",
      "1.618\t\t 0.7316\t\t 24.2213\n",
      "1.668\t\t 0.7315\t\t 24.2233\n",
      "1.719\t\t 0.7315\t\t 24.2253\n",
      "1.769\t\t 0.7315\t\t 24.2273\n",
      "1.820\t\t 0.7315\t\t 24.2293\n",
      "1.870\t\t 0.7315\t\t 24.2313\n",
      "1.921\t\t 0.7314\t\t 24.2333\n",
      "1.971\t\t 0.7314\t\t 24.2354\n",
      "2.022\t\t 0.7314\t\t 24.2374\n",
      "2.072\t\t 0.7314\t\t 24.2394\n",
      "2.123\t\t 0.7313\t\t 24.2414\n",
      "2.173\t\t 0.7313\t\t 24.2434\n",
      "2.224\t\t 0.7313\t\t 24.2455\n",
      "2.274\t\t 0.7313\t\t 24.2475\n",
      "2.325\t\t 0.7313\t\t 24.2495\n",
      "2.375\t\t 0.7312\t\t 24.2515\n",
      "2.426\t\t 0.7312\t\t 24.2535\n",
      "2.476\t\t 0.7312\t\t 24.2556\n",
      "2.526\t\t 0.7312\t\t 24.2576\n",
      "2.577\t\t 0.7311\t\t 24.2596\n",
      "2.627\t\t 0.7311\t\t 24.2617\n",
      "2.678\t\t 0.7311\t\t 24.2637\n",
      "2.728\t\t 0.7311\t\t 24.2657\n",
      "2.779\t\t 0.7311\t\t 24.2678\n",
      "2.829\t\t 0.7310\t\t 24.2698\n",
      "2.880\t\t 0.7310\t\t 24.2718\n",
      "2.930\t\t 0.7310\t\t 24.2739\n",
      "2.981\t\t 0.7310\t\t 24.2759\n",
      "3.031\t\t 0.7309\t\t 24.2779\n",
      "3.082\t\t 0.7309\t\t 24.2800\n",
      "3.132\t\t 0.7309\t\t 24.2820\n",
      "3.183\t\t 0.7309\t\t 24.2840\n",
      "3.233\t\t 0.7309\t\t 24.2861\n",
      "3.284\t\t 0.7308\t\t 24.2881\n",
      "3.334\t\t 0.7308\t\t 24.2902\n",
      "3.385\t\t 0.7308\t\t 24.2922\n",
      "3.435\t\t 0.7308\t\t 24.2942\n",
      "3.486\t\t 0.7307\t\t 24.2963\n",
      "3.536\t\t 0.7307\t\t 24.2983\n",
      "3.587\t\t 0.7307\t\t 24.3004\n",
      "3.637\t\t 0.7307\t\t 24.3024\n",
      "3.688\t\t 0.7306\t\t 24.3044\n",
      "3.738\t\t 0.7306\t\t 24.3065\n",
      "3.788\t\t 0.7306\t\t 24.3085\n",
      "3.839\t\t 0.7306\t\t 24.3106\n",
      "3.889\t\t 0.7306\t\t 24.3126\n",
      "3.940\t\t 0.7305\t\t 24.3146\n",
      "3.990\t\t 0.7305\t\t 24.3167\n",
      "4.041\t\t 0.7305\t\t 24.3187\n",
      "4.091\t\t 0.7305\t\t 24.3208\n",
      "4.142\t\t 0.7304\t\t 24.3228\n",
      "4.192\t\t 0.7304\t\t 24.3249\n",
      "4.243\t\t 0.7304\t\t 24.3269\n",
      "4.293\t\t 0.7304\t\t 24.3289\n",
      "4.344\t\t 0.7304\t\t 24.3310\n",
      "4.394\t\t 0.7303\t\t 24.3330\n",
      "4.445\t\t 0.7303\t\t 24.3351\n",
      "4.495\t\t 0.7303\t\t 24.3371\n",
      "4.546\t\t 0.7303\t\t 24.3392\n",
      "4.596\t\t 0.7302\t\t 24.3412\n",
      "4.647\t\t 0.7302\t\t 24.3433\n",
      "4.697\t\t 0.7302\t\t 24.3453\n",
      "4.748\t\t 0.7302\t\t 24.3473\n",
      "4.798\t\t 0.7302\t\t 24.3494\n",
      "4.849\t\t 0.7301\t\t 24.3514\n",
      "4.899\t\t 0.7301\t\t 24.3535\n",
      "4.950\t\t 0.7301\t\t 24.3555\n",
      "5.000\t\t 0.7301\t\t 24.3576\n"
     ]
    }
   ],
   "source": [
    "#optimization process \n",
    "import numpy as np\n",
    "print('Optimization values') \n",
    "print('alpha value\\t R2\\t MSE\\t')\n",
    "\n",
    "#interval of values to use for optimization \n",
    "alpha_values = np.linspace(0.0025,5,100)\n",
    "\n",
    "o_r2 = np.array ([])\n",
    "o_mse = np.array([])\n",
    "\n",
    "for a in alpha_values:\n",
    "    ridge = Ridge(fit_intercept=True, alpha=a)\n",
    "    ridge.fit(X_train, y_train)\n",
    "    observed_r2 = r2_score(y_test, ridge.predict(X_test))\n",
    "    observed_mse = mean_squared_error(y_test, ridge.predict(X_test))\n",
    "    \n",
    "    o_r2 = np.append(o_r2, [observed_r2])\n",
    "    o_mse = np.append(o_mse, [observed_mse])\n",
    "    print('{:.3f}\\t\\t {:.4f}\\t\\t {:.4f}'.format(a,observed_r2,observed_mse))"
   ]
  },
  {
   "cell_type": "code",
   "execution_count": 49,
   "metadata": {
    "collapsed": false
   },
   "outputs": [
    {
     "data": {
      "image/png": "[encoded data removed]",
      "text/plain": [
       "<matplotlib.figure.Figure at 0x2143703cda0>"
      ]
     },
     "metadata": {},
     "output_type": "display_data"
    }
   ],
   "source": [
    "%matplotlib inline\n",
    "import pylab as pl\n",
    "\n",
    "from pylab import *\n",
    "\n",
    "pl.plot(alpha_values, o_mse, label='MSE')\n",
    "pl.legend( ('MSE') )\n",
    "pl.ylabel('MSE')\n",
    "pl.xlabel('Alpha')\n",
    "pl.show()\n"
   ]
  },
  {
   "cell_type": "code",
   "execution_count": 54,
   "metadata": {
    "collapsed": true
   },
   "outputs": [],
   "source": [
    "# it appears that an alpha value of 0.025 would be appropiate"
   ]
  },
  {
   "cell_type": "code",
   "execution_count": null,
   "metadata": {
    "collapsed": true
   },
   "outputs": [],
   "source": []
  }
 ],
 "metadata": {
  "anaconda-cloud": {},
  "kernelspec": {
   "display_name": "Python [Root]",
   "language": "python",
   "name": "Python [Root]"
  },
  "language_info": {
   "codemirror_mode": {
    "name": "ipython",
    "version": 3
   },
   "file_extension": ".py",
   "mimetype": "text/x-python",
   "name": "python",
   "nbconvert_exporter": "python",
   "pygments_lexer": "ipython3",
   "version": "3.5.2"
  }
 },
 "nbformat": 4,
 "nbformat_minor": 0
}
